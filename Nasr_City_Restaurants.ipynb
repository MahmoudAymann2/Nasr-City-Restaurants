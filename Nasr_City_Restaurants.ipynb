{
  "nbformat": 4,
  "nbformat_minor": 0,
  "metadata": {
    "colab": {
      "provenance": []
    },
    "kernelspec": {
      "name": "python3",
      "display_name": "Python 3"
    },
    "language_info": {
      "name": "python"
    }
  },
  "cells": [
    {
      "cell_type": "code",
      "execution_count": 4,
      "metadata": {
        "id": "UTisPkkM21IA"
      },
      "outputs": [],
      "source": [
        "import numpy as np\n",
        "import pandas as pd\n",
        "import warnings\n",
        "warnings.filterwarnings('ignore')\n",
        "from geopy.distance import geodesic"
      ]
    },
    {
      "cell_type": "code",
      "source": [
        "# Load the Excel file into a Pandas DataFrame\n",
        "excel_file_path = '/content/Nasr City Restaurants.xlsx'\n",
        "nasr_city_df = pd.read_excel(excel_file_path)"
      ],
      "metadata": {
        "id": "FeSniJk627Sm"
      },
      "execution_count": 2,
      "outputs": []
    },
    {
      "cell_type": "code",
      "source": [
        "# Display the first few rows of the DataFrame\n",
        "print(nasr_city_df.head())"
      ],
      "metadata": {
        "colab": {
          "base_uri": "https://localhost:8080/"
        },
        "id": "s_awCvKk3DBe",
        "outputId": "981a288f-4840-495c-b716-5eca72bb7a36"
      },
      "execution_count": 3,
      "outputs": [
        {
          "output_type": "stream",
          "name": "stdout",
          "text": [
            "                                               title              cuisine  \\\n",
            "0  كشري الشيخ - koshary El Sheikh‏ (فرع سوق السيا...   Koshari restaurant   \n",
            "1                          El Abd, Eastern Nasr city   Dessert restaurant   \n",
            "2                                     Shikh El Balad   Falafel restaurant   \n",
            "3                                     Gad Restaurant  Egyptian restaurant   \n",
            "4                           PRODO Restaurant | برودو     Pizza restaurant   \n",
            "\n",
            "   rating  reviewsCount                                             street  \\\n",
            "0     3.9           188  محطه الجامع سوق السيارات، 79 Al Swissri Marhala B   \n",
            "1     4.5            40                               شارع Dr Ismail Wahbi   \n",
            "2     3.8            68  29WG+9CX، شارع محطة المدرسه الحي العاشر قسم مد...   \n",
            "3     3.6          1514                                  88 El Merghany St   \n",
            "4     3.4            18                               48 جامع الحاجة اسماء   \n",
            "\n",
            "                                                 url  location/lat  \\\n",
            "0  https://www.google.com/maps/search/?api=1&quer...     30.047566   \n",
            "1  https://www.google.com/maps/search/?api=1&quer...     30.052684   \n",
            "2  https://www.google.com/maps/search/?api=1&quer...     30.045998   \n",
            "3  https://www.google.com/maps/search/?api=1&quer...     30.084952   \n",
            "4  https://www.google.com/maps/search/?api=1&quer...     30.079953   \n",
            "\n",
            "   location/lng  \n",
            "0     31.368162  \n",
            "1     31.368937  \n",
            "2     31.376096  \n",
            "3     31.328647  \n",
            "4     31.335031  \n"
          ]
        }
      ]
    },
    {
      "cell_type": "code",
      "source": [
        "# Remove duplicate titles in the same location and keep the one with the highest reviews count\n",
        "nasr_city_df = nasr_city_df.sort_values('reviewsCount', ascending=False)\n",
        "nasr_city_df = nasr_city_df.drop_duplicates(subset=['title', 'location/lat', 'location/lng'], keep='first')"
      ],
      "metadata": {
        "id": "-YhI5f_e3Gx6"
      },
      "execution_count": 5,
      "outputs": []
    },
    {
      "cell_type": "code",
      "source": [
        "nasr_city_df.duplicated().sum()"
      ],
      "metadata": {
        "colab": {
          "base_uri": "https://localhost:8080/"
        },
        "id": "RNzUN_Yd30MM",
        "outputId": "7de83529-5b99-435d-cb77-c8c7d21723e8"
      },
      "execution_count": 6,
      "outputs": [
        {
          "output_type": "execute_result",
          "data": {
            "text/plain": [
              "0"
            ]
          },
          "metadata": {},
          "execution_count": 6
        }
      ]
    },
    {
      "cell_type": "code",
      "source": [
        "# Flag all Koshary restaurants based on the \"cuisine\" column\n",
        "nasr_city_df['Is_Koshary'] = nasr_city_df['cuisine'].str.contains('Koshari restaurant', case=False, na=False)\n"
      ],
      "metadata": {
        "id": "Z5gKe_Rz36H4"
      },
      "execution_count": 7,
      "outputs": []
    },
    {
      "cell_type": "code",
      "source": [
        "# Display the DataFrame to check the columns and first few rows after processing\n",
        "print(\"Processed DataFrame:\")\n",
        "print(nasr_city_df.head())"
      ],
      "metadata": {
        "colab": {
          "base_uri": "https://localhost:8080/"
        },
        "id": "coFlUI1G4EBA",
        "outputId": "240d4645-363d-456e-acec-c85f424f36eb"
      },
      "execution_count": 8,
      "outputs": [
        {
          "output_type": "stream",
          "name": "stdout",
          "text": [
            "Processed DataFrame:\n",
            "                        title             cuisine  rating  reviewsCount  \\\n",
            "557       Abou Ramy nasr city       Sandwich shop     3.9         11743   \n",
            "632  Murano Restaurant & Cafe  Italian restaurant     4.4          9796   \n",
            "691         Bistro Heliopolis  Italian restaurant     4.3          7583   \n",
            "474              Costa Coffee         Coffee shop     4.2          7006   \n",
            "650      Zack's Fried Chicken  Chicken restaurant     3.9          6201   \n",
            "\n",
            "                                                street  \\\n",
            "557                                    3 El Tayaran St   \n",
            "632  عمر بن الخطاب، مساكن المهندسين، مدينة نصر، محا...   \n",
            "691  33 عمر بن الخطاب ميدان الاسماعيلية 33 Omar Ibn...   \n",
            "474                               37 Abbas El Akkad St   \n",
            "650                                           389J+22X   \n",
            "\n",
            "                                                   url  location/lat  \\\n",
            "557  https://www.google.com/maps/search/?api=1&quer...     30.043799   \n",
            "632  https://www.google.com/maps/search/?api=1&quer...     30.078094   \n",
            "691  https://www.google.com/maps/search/?api=1&quer...     30.095074   \n",
            "474  https://www.google.com/maps/search/?api=1&quer...     30.062463   \n",
            "650  https://www.google.com/maps/search/?api=1&quer...     30.067614   \n",
            "\n",
            "     location/lng  Is_Koshary  \n",
            "557     31.328763       False  \n",
            "632     31.347983       False  \n",
            "691     31.335509       False  \n",
            "474     31.336788       False  \n",
            "650     31.330115       False  \n"
          ]
        }
      ]
    },
    {
      "cell_type": "code",
      "source": [
        "# Filter the DataFrame to include only Koshary restaurants\n",
        "koshary_df = nasr_city_df[nasr_city_df['Is_Koshary']]"
      ],
      "metadata": {
        "id": "-4Xt48NW4Hze"
      },
      "execution_count": 9,
      "outputs": []
    },
    {
      "cell_type": "code",
      "source": [
        "# Function to calculate the distance between two coordinates\n",
        "def calculate_distance(row1, row2):\n",
        "    coords_1 = (row1['location/lat'], row1['location/lng'])\n",
        "    coords_2 = (row2['location/lat'], row2['location/lng'])\n",
        "    return geodesic(coords_1, coords_2).meters"
      ],
      "metadata": {
        "id": "vwjJSdVS4LCl"
      },
      "execution_count": 10,
      "outputs": []
    },
    {
      "cell_type": "code",
      "source": [
        "# Initialize variables to find the closest pair of Koshary restaurants\n",
        "min_distance = float('inf')\n",
        "closest_pair = (None, None)"
      ],
      "metadata": {
        "id": "LRYZ4RN14Mys"
      },
      "execution_count": 11,
      "outputs": []
    },
    {
      "cell_type": "code",
      "source": [
        "# Find the two closest Koshary restaurants\n",
        "for i, row1 in koshary_df.iterrows():\n",
        "    for j, row2 in koshary_df.iterrows():\n",
        "        if i != j:\n",
        "            distance = calculate_distance(row1, row2)\n",
        "            if distance < min_distance:\n",
        "                min_distance = distance\n",
        "                closest_pair = (row1['title'], row2['title'])\n",
        "\n",
        "print(f\"The closest Koshary restaurants are: {closest_pair[0]} and {closest_pair[1]} with a distance of {min_distance} meters.\")\n"
      ],
      "metadata": {
        "colab": {
          "base_uri": "https://localhost:8080/"
        },
        "id": "biUmrwRL4OhQ",
        "outputId": "a0ab2d09-f07e-4311-f89b-968cb30531e6"
      },
      "execution_count": 12,
      "outputs": [
        {
          "output_type": "stream",
          "name": "stdout",
          "text": [
            "The closest Koshary restaurants are: كشرى حلوانى ابو حنفى and كشري الأمور with a distance of 488.7726675500647 meters.\n"
          ]
        }
      ]
    },
    {
      "cell_type": "code",
      "source": [
        "# Save the DataFrame with the flagged Koshary restaurants\n",
        "output_path = '/content/Nasr_City_Restaurants_Flagged.xlsx'\n",
        "nasr_city_df.to_excel(output_path, index=False)\n",
        "\n",
        "# Download the file\n",
        "from google.colab import files\n",
        "files.download(output_path)\n",
        "\n",
        "# Display the final DataFrame to verify\n",
        "print(\"Final DataFrame:\")\n",
        "print(nasr_city_df.head())"
      ],
      "metadata": {
        "colab": {
          "base_uri": "https://localhost:8080/",
          "height": 525
        },
        "id": "mQgainlX4Srk",
        "outputId": "a5982725-4a49-417d-d940-5be4a72b053c"
      },
      "execution_count": 13,
      "outputs": [
        {
          "output_type": "display_data",
          "data": {
            "text/plain": [
              "<IPython.core.display.Javascript object>"
            ],
            "application/javascript": [
              "\n",
              "    async function download(id, filename, size) {\n",
              "      if (!google.colab.kernel.accessAllowed) {\n",
              "        return;\n",
              "      }\n",
              "      const div = document.createElement('div');\n",
              "      const label = document.createElement('label');\n",
              "      label.textContent = `Downloading \"${filename}\": `;\n",
              "      div.appendChild(label);\n",
              "      const progress = document.createElement('progress');\n",
              "      progress.max = size;\n",
              "      div.appendChild(progress);\n",
              "      document.body.appendChild(div);\n",
              "\n",
              "      const buffers = [];\n",
              "      let downloaded = 0;\n",
              "\n",
              "      const channel = await google.colab.kernel.comms.open(id);\n",
              "      // Send a message to notify the kernel that we're ready.\n",
              "      channel.send({})\n",
              "\n",
              "      for await (const message of channel.messages) {\n",
              "        // Send a message to notify the kernel that we're ready.\n",
              "        channel.send({})\n",
              "        if (message.buffers) {\n",
              "          for (const buffer of message.buffers) {\n",
              "            buffers.push(buffer);\n",
              "            downloaded += buffer.byteLength;\n",
              "            progress.value = downloaded;\n",
              "          }\n",
              "        }\n",
              "      }\n",
              "      const blob = new Blob(buffers, {type: 'application/binary'});\n",
              "      const a = document.createElement('a');\n",
              "      a.href = window.URL.createObjectURL(blob);\n",
              "      a.download = filename;\n",
              "      div.appendChild(a);\n",
              "      a.click();\n",
              "      div.remove();\n",
              "    }\n",
              "  "
            ]
          },
          "metadata": {}
        },
        {
          "output_type": "display_data",
          "data": {
            "text/plain": [
              "<IPython.core.display.Javascript object>"
            ],
            "application/javascript": [
              "download(\"download_6a42d141-405c-493d-9056-6c81b233dd40\", \"Nasr_City_Restaurants_Flagged.xlsx\", 120850)"
            ]
          },
          "metadata": {}
        },
        {
          "output_type": "stream",
          "name": "stdout",
          "text": [
            "Final DataFrame:\n",
            "                        title             cuisine  rating  reviewsCount  \\\n",
            "557       Abou Ramy nasr city       Sandwich shop     3.9         11743   \n",
            "632  Murano Restaurant & Cafe  Italian restaurant     4.4          9796   \n",
            "691         Bistro Heliopolis  Italian restaurant     4.3          7583   \n",
            "474              Costa Coffee         Coffee shop     4.2          7006   \n",
            "650      Zack's Fried Chicken  Chicken restaurant     3.9          6201   \n",
            "\n",
            "                                                street  \\\n",
            "557                                    3 El Tayaran St   \n",
            "632  عمر بن الخطاب، مساكن المهندسين، مدينة نصر، محا...   \n",
            "691  33 عمر بن الخطاب ميدان الاسماعيلية 33 Omar Ibn...   \n",
            "474                               37 Abbas El Akkad St   \n",
            "650                                           389J+22X   \n",
            "\n",
            "                                                   url  location/lat  \\\n",
            "557  https://www.google.com/maps/search/?api=1&quer...     30.043799   \n",
            "632  https://www.google.com/maps/search/?api=1&quer...     30.078094   \n",
            "691  https://www.google.com/maps/search/?api=1&quer...     30.095074   \n",
            "474  https://www.google.com/maps/search/?api=1&quer...     30.062463   \n",
            "650  https://www.google.com/maps/search/?api=1&quer...     30.067614   \n",
            "\n",
            "     location/lng  Is_Koshary  \n",
            "557     31.328763       False  \n",
            "632     31.347983       False  \n",
            "691     31.335509       False  \n",
            "474     31.336788       False  \n",
            "650     31.330115       False  \n"
          ]
        }
      ]
    },
    {
      "cell_type": "code",
      "source": [],
      "metadata": {
        "id": "gvTkO2IS4fct"
      },
      "execution_count": null,
      "outputs": []
    }
  ]
}